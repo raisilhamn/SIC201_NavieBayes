{
 "cells": [
  {
   "cell_type": "code",
   "execution_count": 1,
   "metadata": {},
   "outputs": [],
   "source": [
    "# import library\n",
    "import pandas as pd\n",
    "from sklearn import preprocessing\n",
    "from sklearn.naive_bayes import GaussianNB"
   ]
  },
  {
   "cell_type": "code",
   "execution_count": 25,
   "metadata": {},
   "outputs": [
    {
     "data": {
      "text/html": [
       "<div>\n",
       "<style scoped>\n",
       "    .dataframe tbody tr th:only-of-type {\n",
       "        vertical-align: middle;\n",
       "    }\n",
       "\n",
       "    .dataframe tbody tr th {\n",
       "        vertical-align: top;\n",
       "    }\n",
       "\n",
       "    .dataframe thead th {\n",
       "        text-align: right;\n",
       "    }\n",
       "</style>\n",
       "<table border=\"1\" class=\"dataframe\">\n",
       "  <thead>\n",
       "    <tr style=\"text-align: right;\">\n",
       "      <th></th>\n",
       "      <th>rule</th>\n",
       "      <th>land_price</th>\n",
       "      <th>distance</th>\n",
       "      <th>public_transport</th>\n",
       "      <th>housing</th>\n",
       "    </tr>\n",
       "  </thead>\n",
       "  <tbody>\n",
       "    <tr>\n",
       "      <th>0</th>\n",
       "      <td>1</td>\n",
       "      <td>cheap</td>\n",
       "      <td>not far</td>\n",
       "      <td>no</td>\n",
       "      <td>yes</td>\n",
       "    </tr>\n",
       "    <tr>\n",
       "      <th>1</th>\n",
       "      <td>2</td>\n",
       "      <td>medium</td>\n",
       "      <td>not far</td>\n",
       "      <td>no</td>\n",
       "      <td>yes</td>\n",
       "    </tr>\n",
       "    <tr>\n",
       "      <th>2</th>\n",
       "      <td>3</td>\n",
       "      <td>expensive</td>\n",
       "      <td>not far</td>\n",
       "      <td>no</td>\n",
       "      <td>yes</td>\n",
       "    </tr>\n",
       "    <tr>\n",
       "      <th>3</th>\n",
       "      <td>4</td>\n",
       "      <td>expensive</td>\n",
       "      <td>far</td>\n",
       "      <td>no</td>\n",
       "      <td>no</td>\n",
       "    </tr>\n",
       "    <tr>\n",
       "      <th>4</th>\n",
       "      <td>5</td>\n",
       "      <td>expensive</td>\n",
       "      <td>medium</td>\n",
       "      <td>no</td>\n",
       "      <td>no</td>\n",
       "    </tr>\n",
       "    <tr>\n",
       "      <th>5</th>\n",
       "      <td>6</td>\n",
       "      <td>medium</td>\n",
       "      <td>far</td>\n",
       "      <td>yes</td>\n",
       "      <td>no</td>\n",
       "    </tr>\n",
       "    <tr>\n",
       "      <th>6</th>\n",
       "      <td>7</td>\n",
       "      <td>cheap</td>\n",
       "      <td>far</td>\n",
       "      <td>yes</td>\n",
       "      <td>no</td>\n",
       "    </tr>\n",
       "    <tr>\n",
       "      <th>7</th>\n",
       "      <td>8</td>\n",
       "      <td>cheap</td>\n",
       "      <td>medium</td>\n",
       "      <td>no</td>\n",
       "      <td>yes</td>\n",
       "    </tr>\n",
       "    <tr>\n",
       "      <th>8</th>\n",
       "      <td>9</td>\n",
       "      <td>expensive</td>\n",
       "      <td>far</td>\n",
       "      <td>yes</td>\n",
       "      <td>no</td>\n",
       "    </tr>\n",
       "    <tr>\n",
       "      <th>9</th>\n",
       "      <td>10</td>\n",
       "      <td>medium</td>\n",
       "      <td>medium</td>\n",
       "      <td>yes</td>\n",
       "      <td>yes</td>\n",
       "    </tr>\n",
       "  </tbody>\n",
       "</table>\n",
       "</div>"
      ],
      "text/plain": [
       "   rule land_price distance public_transport housing\n",
       "0     1      cheap  not far               no     yes\n",
       "1     2     medium  not far               no     yes\n",
       "2     3  expensive  not far               no     yes\n",
       "3     4  expensive      far               no      no\n",
       "4     5  expensive   medium               no      no\n",
       "5     6     medium      far              yes      no\n",
       "6     7      cheap      far              yes      no\n",
       "7     8      cheap   medium               no     yes\n",
       "8     9  expensive      far              yes      no\n",
       "9    10     medium   medium              yes     yes"
      ]
     },
     "execution_count": 25,
     "metadata": {},
     "output_type": "execute_result"
    }
   ],
   "source": [
    "# import data\n",
    "df = pd.read_csv('land.csv')\n",
    "df"
   ]
  },
  {
   "cell_type": "code",
   "execution_count": 26,
   "metadata": {},
   "outputs": [],
   "source": [
    "#Create a Label Encoder to transform data\n",
    "encoder = preprocessing.LabelEncoder()"
   ]
  },
  {
   "cell_type": "code",
   "execution_count": 27,
   "metadata": {},
   "outputs": [
    {
     "name": "stdout",
     "output_type": "stream",
     "text": [
      "before transform\n",
      "C1 =  ['cheap', 'medium', 'expensive', 'expensive', 'expensive', 'medium', 'cheap', 'cheap', 'expensive', 'medium']\n",
      "C2 =  ['not far', 'not far', 'not far', 'far', 'medium', 'far', 'far', 'medium', 'far', 'medium']\n",
      "C3 =  ['no', 'no', 'no', 'no', 'no', 'yes', 'yes', 'no', 'yes', 'yes']\n",
      "C4 =  ['yes', 'yes', 'yes', 'no', 'no', 'no', 'no', 'yes', 'no', 'yes']\n"
     ]
    }
   ],
   "source": [
    "#Creating List\n",
    "C1 = df['land_price'].tolist()\n",
    "C2 = df['distance'].tolist()\n",
    "C3 = df['public_transport'].tolist()\n",
    "C4 = df['housing'].tolist()\n",
    "# before transform\n",
    "print('before transform')\n",
    "print('C1 = ',C1)\n",
    "print('C2 = ',C2)\n",
    "print('C3 = ',C3)\n",
    "print('C4 = ',C4)"
   ]
  },
  {
   "cell_type": "code",
   "execution_count": 28,
   "metadata": {},
   "outputs": [
    {
     "name": "stdout",
     "output_type": "stream",
     "text": [
      "after transform\n",
      "C1 =  [0 2 1 1 1 2 0 0 1 2]\n",
      "C2 =  [2 2 2 0 1 0 0 1 0 1]\n",
      "C3 =  [0 0 0 0 0 1 1 0 1 1]\n",
      "C4 =  [1 1 1 0 0 0 0 1 0 1]\n"
     ]
    }
   ],
   "source": [
    "#transform categorical data to numerical\n",
    "C1 = encoder.fit_transform(C1)\n",
    "C2 = encoder.fit_transform(C2)\n",
    "C3 = encoder.fit_transform(C3)\n",
    "C4 = encoder.fit_transform(C4)\n",
    "# after transform\n",
    "print('after transform')\n",
    "print('C1 = ',C1)\n",
    "print('C2 = ',C2)\n",
    "print('C3 = ',C3)\n",
    "print('C4 = ',C4)"
   ]
  },
  {
   "cell_type": "markdown",
   "metadata": {},
   "source": [
    "dari output diatas, kita tahu bahwa : \n",
    "\n",
    "C1 => angka 0 = murah, angka 1 = mahal, angka 2 = sedang\n",
    "\n",
    "C2 => angka 0 = jauh, angka 1 = sedang, angka 2 = tidak jauh\n",
    "\n",
    "C3 => angka 0 = no, angka 1 = yes\n",
    "\n",
    "C4 => angka 0 = yes, angka 1 = no"
   ]
  },
  {
   "cell_type": "code",
   "execution_count": 29,
   "metadata": {},
   "outputs": [
    {
     "name": "stdout",
     "output_type": "stream",
     "text": [
      "Data =  [(0, 2, 0), (2, 2, 0), (1, 2, 0), (1, 0, 0), (1, 1, 0), (2, 0, 1), (0, 0, 1), (0, 1, 0), (1, 0, 1), (2, 1, 1)]\n"
     ]
    }
   ],
   "source": [
    "#Combining Features\n",
    "marge = list(zip(C1, C2, C3))\n",
    "print(\"Data = \", marge)"
   ]
  },
  {
   "cell_type": "code",
   "execution_count": 31,
   "metadata": {},
   "outputs": [
    {
     "name": "stdout",
     "output_type": "stream",
     "text": [
      "\n",
      "Hasil prediksi =  [1]\n"
     ]
    }
   ],
   "source": [
    "#Creating GNB Model\n",
    "model = GaussianNB()\n",
    "#Training the Data\n",
    "model.fit(marge, C4)\n",
    "\n",
    "#Predict the Output of Question\n",
    "hasil = model.predict([(0, 2, 0)]) \n",
    "print(\"Prediction \", hasil) # C4 => angka 0 = yes, angka 1 = no"
   ]
  },
  {
   "cell_type": "markdown",
   "metadata": {},
   "source": [
    "Dari percobaan diatas ditemukan bahwa lahan dengan perpaduan (Mahal -- Sedang -- Ada) tidak cocok untuk dijadikan lahan perumahan"
   ]
  }
 ],
 "metadata": {
  "interpreter": {
   "hash": "96eb50e1d44aed467dc8f759cb08c32fbfa9babcf79c554e2d0e5feb04653a10"
  },
  "kernelspec": {
   "display_name": "Python 3.9.7 ('base')",
   "language": "python",
   "name": "python3"
  },
  "language_info": {
   "codemirror_mode": {
    "name": "ipython",
    "version": 3
   },
   "file_extension": ".py",
   "mimetype": "text/x-python",
   "name": "python",
   "nbconvert_exporter": "python",
   "pygments_lexer": "ipython3",
   "version": "3.9.7"
  },
  "orig_nbformat": 4
 },
 "nbformat": 4,
 "nbformat_minor": 2
}
